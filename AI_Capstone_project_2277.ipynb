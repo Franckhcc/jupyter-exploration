{
 "cells": [
  {
   "cell_type": "markdown",
   "id": "c66adc76",
   "metadata": {},
   "source": [
    "A Project to create a model that predicts movie performance through the use of metadata and early audience reviews. Can we predict whether a movie will be a box office hit or a flop based on its metadata (genre, budget, cast, release date) and early audience reviews?
Features : genre, Budget, cast, release date. We can add more (name of a famous actor, time frame of the film)
"
   ]
  },
  {
   "cell_type": "code",
   "execution_count": 2,
   "id": "1c44cd31",
   "metadata": {},
   "outputs": [],
   "source": [
    "# Step One"
   ]
  }
 ],
 "metadata": {
  "kernelspec": {
   "display_name": "Python 3",
   "language": "python",
   "name": "python3"
  },
  "language_info": {
   "codemirror_mode": {
    "name": "ipython",
    "version": 3
   },
   "file_extension": ".py",
   "mimetype": "text/x-python",
   "name": "python",
   "nbconvert_exporter": "python",
   "pygments_lexer": "ipython3",
   "version": "3.13.7"
  }
 },
 "nbformat": 4,
 "nbformat_minor": 5
}
