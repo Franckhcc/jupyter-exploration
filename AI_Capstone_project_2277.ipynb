{
 "cells": [
  {
   "cell_type": "markdown",
   "id": "c66adc76",
   "metadata": {},
   "source": [
    "A Project to create a model that measures movie performance by predicting the average audience rating for each movie on a scale of (1-10) "
   ]
  },
  {
   "cell_type": "code",
   "execution_count": 2,
   "id": "1c44cd31",
   "metadata": {},
   "outputs": [],
   "source": [
    "# Step One"
   ]
  }
 ],
 "metadata": {
  "kernelspec": {
   "display_name": "Python 3",
   "language": "python",
   "name": "python3"
  },
  "language_info": {
   "codemirror_mode": {
    "name": "ipython",
    "version": 3
   },
   "file_extension": ".py",
   "mimetype": "text/x-python",
   "name": "python",
   "nbconvert_exporter": "python",
   "pygments_lexer": "ipython3",
   "version": "3.13.7"
  }
 },
 "nbformat": 4,
 "nbformat_minor": 5
}
